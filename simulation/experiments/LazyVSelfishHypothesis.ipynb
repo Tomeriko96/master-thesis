{
 "cells": [
  {
   "cell_type": "code",
   "execution_count": 1,
   "metadata": {},
   "outputs": [],
   "source": [
    "import numpy as np; np.random.seed(42)\n",
    "import pandas as pd\n",
    "import matplotlib.pyplot as plt\n",
    "import pandas as pd"
   ]
  },
  {
   "cell_type": "code",
   "execution_count": 2,
   "metadata": {},
   "outputs": [],
   "source": [
    "from scipy import stats\n"
   ]
  },
  {
   "cell_type": "code",
   "execution_count": 3,
   "metadata": {},
   "outputs": [],
   "source": [
    "df9 = pd.read_csv('logtay2.csv', names=['percentage_lazy','chance_of_selfishness','num_agents','avg_health' ])\n",
    "df10 = pd.read_csv('log_lazy.csv', names=['percentage_lazy','chance_of_selfishness','num_agents','avg_health' ])\n",
    "\n",
    "frames = [df9, df10]\n",
    "df11 = pd.concat(frames)\n",
    "\n",
    "df11['chance_of_selfishness'] = df11['chance_of_selfishness']\n",
    "\n",
    "df11['percentage_wandering'] = 1-df11['percentage_lazy']\n",
    "\n",
    "df11['adjusted_chance_of_selfishness'] = df11['chance_of_selfishness'] * df11['percentage_wandering']\n",
    "df11['adjusted_chance_of_sharing'] = (1-df11['chance_of_selfishness']) * df11['percentage_wandering']\n",
    "df11['adjusted_fitness'] = (df11['num_agents'] * df11['avg_health']) / 50"
   ]
  },
  {
   "cell_type": "code",
   "execution_count": 4,
   "metadata": {},
   "outputs": [],
   "source": [
    "df5 = pd.read_csv('log_6.csv', names=['percentage_lazy','chance_of_selfishness','num_agents','avg_health' ])\n",
    "df6 = pd.read_csv('logtay.csv', names=['percentage_lazy','chance_of_selfishness','num_agents','avg_health' ])\n",
    "df7 = pd.read_csv('log_lazy.csv', names=['percentage_lazy','chance_of_selfishness','num_agents','avg_health' ])\n",
    "\n",
    "frames = [df5, df6, df7]\n",
    "\n",
    "df8 = pd.concat(frames)\n",
    "\n",
    "df8['chance_of_selfishness'] = df8['chance_of_selfishness']\n",
    "\n",
    "df8['percentage_wandering'] = 1-df8['percentage_lazy']\n",
    "\n",
    "df8['adjusted_chance_of_selfishness'] = df8['chance_of_selfishness'] * df8['percentage_wandering']\n",
    "df8['adjusted_chance_of_sharing'] = (1-df8['chance_of_selfishness']) * df8['percentage_wandering']\n",
    "df8['adjusted_fitness'] = (df8['num_agents'] * df8['avg_health']) / 50"
   ]
  },
  {
   "cell_type": "code",
   "execution_count": 5,
   "metadata": {},
   "outputs": [],
   "source": [
    "df4 = pd.read_csv('log_5.csv', names=['percentage_lazy','chance_of_selfishness','num_agents','avg_health' ])\n",
    "df4['chance_of_selfishness'] = df4['chance_of_selfishness']\n",
    "df4['adjusted_fitness'] = (df4['num_agents'] * df4['avg_health']) / 20\n",
    "\n",
    "df4['percentage_wandering'] = 1-df4['percentage_lazy']\n",
    "\n",
    "df4['adjusted_chance_of_selfishness'] = df4['chance_of_selfishness'] * df4['percentage_wandering']\n",
    "df4['adjusted_chance_of_sharing'] = (1-df4['chance_of_selfishness']) * df4['percentage_wandering']"
   ]
  },
  {
   "cell_type": "code",
   "execution_count": 6,
   "metadata": {},
   "outputs": [],
   "source": [
    "df3 = pd.read_csv('log_4.csv', names=['percentage_lazy','chance_of_selfishness','num_agents','avg_health' ])\n",
    "df3['chance_of_selfishness'] = df3['chance_of_selfishness']\n",
    "\n",
    "# df3 = df3.sort_values(by=['percentage_lazy'])\n",
    "\n",
    "# df3.tail()\n",
    "\n",
    "df3['percentage_wandering'] = 1-df3['percentage_lazy']\n",
    "df3['adjusted_fitness'] = (df3['num_agents'] * df3['avg_health']) / 20\n",
    "\n",
    "\n",
    "# df3.head()\n",
    "\n",
    "df3['adjusted_chance_of_selfishness'] = df3['chance_of_selfishness'] * df3['percentage_wandering']\n",
    "df3['adjusted_chance_of_sharing'] = (1-df3['chance_of_selfishness']) * df3['percentage_wandering']"
   ]
  },
  {
   "cell_type": "code",
   "execution_count": 7,
   "metadata": {},
   "outputs": [],
   "source": [
    "w = df3['adjusted_fitness'].tolist() #2020\n",
    "x = df4['adjusted_fitness'].tolist() #2030\n",
    "y = df8['adjusted_fitness'].tolist() #5020\n",
    "z = df11['adjusted_fitness'].tolist() #5030\n"
   ]
  },
  {
   "cell_type": "code",
   "execution_count": 8,
   "metadata": {},
   "outputs": [
    {
     "data": {
      "text/plain": [
       "KruskalResult(statistic=441.3614278292264, pvalue=2.426060347846038e-95)"
      ]
     },
     "execution_count": 8,
     "metadata": {},
     "output_type": "execute_result"
    }
   ],
   "source": [
    "stats.kruskal(w, x, y, z)"
   ]
  },
  {
   "cell_type": "code",
   "execution_count": 9,
   "metadata": {},
   "outputs": [
    {
     "data": {
      "text/html": [
       "<div>\n",
       "<style scoped>\n",
       "    .dataframe tbody tr th:only-of-type {\n",
       "        vertical-align: middle;\n",
       "    }\n",
       "\n",
       "    .dataframe tbody tr th {\n",
       "        vertical-align: top;\n",
       "    }\n",
       "\n",
       "    .dataframe thead th {\n",
       "        text-align: right;\n",
       "    }\n",
       "</style>\n",
       "<table border=\"1\" class=\"dataframe\">\n",
       "  <thead>\n",
       "    <tr style=\"text-align: right;\">\n",
       "      <th></th>\n",
       "      <th>1</th>\n",
       "      <th>2</th>\n",
       "      <th>3</th>\n",
       "      <th>4</th>\n",
       "    </tr>\n",
       "  </thead>\n",
       "  <tbody>\n",
       "    <tr>\n",
       "      <th>1</th>\n",
       "      <td>1.000000e+00</td>\n",
       "      <td>7.731128e-05</td>\n",
       "      <td>3.918707e-52</td>\n",
       "      <td>2.135957e-70</td>\n",
       "    </tr>\n",
       "    <tr>\n",
       "      <th>2</th>\n",
       "      <td>7.731128e-05</td>\n",
       "      <td>1.000000e+00</td>\n",
       "      <td>1.584326e-27</td>\n",
       "      <td>1.301588e-40</td>\n",
       "    </tr>\n",
       "    <tr>\n",
       "      <th>3</th>\n",
       "      <td>3.918707e-52</td>\n",
       "      <td>1.584326e-27</td>\n",
       "      <td>1.000000e+00</td>\n",
       "      <td>1.761644e-01</td>\n",
       "    </tr>\n",
       "    <tr>\n",
       "      <th>4</th>\n",
       "      <td>2.135957e-70</td>\n",
       "      <td>1.301588e-40</td>\n",
       "      <td>1.761644e-01</td>\n",
       "      <td>1.000000e+00</td>\n",
       "    </tr>\n",
       "  </tbody>\n",
       "</table>\n",
       "</div>"
      ],
      "text/plain": [
       "              1             2             3             4\n",
       "1  1.000000e+00  7.731128e-05  3.918707e-52  2.135957e-70\n",
       "2  7.731128e-05  1.000000e+00  1.584326e-27  1.301588e-40\n",
       "3  3.918707e-52  1.584326e-27  1.000000e+00  1.761644e-01\n",
       "4  2.135957e-70  1.301588e-40  1.761644e-01  1.000000e+00"
      ]
     },
     "execution_count": 9,
     "metadata": {},
     "output_type": "execute_result"
    }
   ],
   "source": [
    "data = [w, x, y, z]\n",
    "\n",
    "import scikit_posthocs as sp\n",
    "sp.posthoc_dunn(data, p_adjust = 'bonferroni')"
   ]
  },
  {
   "cell_type": "code",
   "execution_count": 10,
   "metadata": {},
   "outputs": [
    {
     "name": "stdout",
     "output_type": "stream",
     "text": [
      "p-value 1.053930821685914e-05\n"
     ]
    }
   ],
   "source": [
    "from scipy.stats import ttest_ind\n",
    "import numpy as np\n",
    "ttest,pval = ttest_ind(w,x, equal_var=False)\n",
    "print(\"p-value\",pval)"
   ]
  },
  {
   "cell_type": "code",
   "execution_count": 11,
   "metadata": {},
   "outputs": [
    {
     "name": "stdout",
     "output_type": "stream",
     "text": [
      "p-value 0.02902411487701517\n"
     ]
    }
   ],
   "source": [
    "from scipy.stats import ttest_ind\n",
    "import numpy as np\n",
    "ttest,pval = ttest_ind(y,z, equal_var=False)\n",
    "print(\"p-value\",pval)"
   ]
  },
  {
   "cell_type": "code",
   "execution_count": null,
   "metadata": {},
   "outputs": [],
   "source": []
  },
  {
   "cell_type": "code",
   "execution_count": 12,
   "metadata": {},
   "outputs": [
    {
     "name": "stdout",
     "output_type": "stream",
     "text": [
      "p-value 2.7087746869380267e-52\n"
     ]
    }
   ],
   "source": [
    "from scipy.stats import ttest_ind\n",
    "import numpy as np\n",
    "ttest,pval = ttest_ind(w,y, equal_var=False)\n",
    "print(\"p-value\",pval)"
   ]
  },
  {
   "cell_type": "code",
   "execution_count": 13,
   "metadata": {},
   "outputs": [
    {
     "name": "stdout",
     "output_type": "stream",
     "text": [
      "p-value 1.8142223046548722e-42\n"
     ]
    }
   ],
   "source": [
    "from scipy.stats import ttest_ind\n",
    "import numpy as np\n",
    "ttest,pval = ttest_ind(x,z, equal_var=False)\n",
    "print(\"p-value\",pval)"
   ]
  },
  {
   "cell_type": "code",
   "execution_count": null,
   "metadata": {},
   "outputs": [],
   "source": []
  }
 ],
 "metadata": {
  "kernelspec": {
   "display_name": "Python 3",
   "language": "python",
   "name": "python3"
  },
  "language_info": {
   "codemirror_mode": {
    "name": "ipython",
    "version": 3
   },
   "file_extension": ".py",
   "mimetype": "text/x-python",
   "name": "python",
   "nbconvert_exporter": "python",
   "pygments_lexer": "ipython3",
   "version": "3.8.5"
  }
 },
 "nbformat": 4,
 "nbformat_minor": 4
}
